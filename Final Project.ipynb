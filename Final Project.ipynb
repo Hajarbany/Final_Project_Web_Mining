{
 "cells": [
  {
   "cell_type": "markdown",
   "id": "a8fccf29-9df1-4eb3-b986-b991f2eed956",
   "metadata": {},
   "source": [
    "# Final Project \n",
    "\n",
    "### Final Project Repo: https://github.com/Hajarbany/Final_Project_Web_Mining.git\n",
    "\n",
    "### Article used for the project: https://anoregoncottage.com/soft-100-whole-wheat-dinner-rolls/\n",
    "\n",
    "### Student Name: Hajar Banyalmarjeh"
   ]
  },
  {
   "cell_type": "code",
   "execution_count": null,
   "id": "22dd6b0e-b27a-4049-9cfb-b9195d18355f",
   "metadata": {},
   "outputs": [],
   "source": []
  }
 ],
 "metadata": {
  "kernelspec": {
   "display_name": "Python 3",
   "language": "python",
   "name": "python3"
  },
  "language_info": {
   "codemirror_mode": {
    "name": "ipython",
    "version": 3
   },
   "file_extension": ".py",
   "mimetype": "text/x-python",
   "name": "python",
   "nbconvert_exporter": "python",
   "pygments_lexer": "ipython3",
   "version": "3.7.10"
  }
 },
 "nbformat": 4,
 "nbformat_minor": 5
}
